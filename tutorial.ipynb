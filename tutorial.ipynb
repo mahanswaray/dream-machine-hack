{
 "cells": [
  {
   "cell_type": "code",
   "execution_count": 3,
   "metadata": {},
   "outputs": [],
   "source": [
    "import os\n",
    "from lumaai import AsyncLumaAI\n",
    "\n",
    "client = AsyncLumaAI(\n",
    "    auth_token=os.environ.get(\"LUMAAI_API_KEY\"),\n",
    ")"
   ]
  },
  {
   "cell_type": "code",
   "execution_count": 36,
   "metadata": {},
   "outputs": [],
   "source": [
    "import asyncio\n",
    "\n",
    "\n",
    "async def loop_and_wait_for_generation(gen_id):\n",
    "    output = await client.generations.get(id=gen_id)\n",
    "    while output.assets is None or output.assets.video is None:\n",
    "        if output.failure_reason is not None:\n",
    "            return output\n",
    "        print(\"Waiting for generation to complete...\")\n",
    "        await asyncio.sleep(1)\n",
    "        output = await client.generations.get(id=gen_id)\n",
    "    return output\n"
   ]
  },
  {
   "cell_type": "code",
   "execution_count": 24,
   "metadata": {},
   "outputs": [],
   "source": [
    "generation = await client.generations.create(\n",
    "    prompt=\"Generate a video shwoing this description by a dungeon master for a group of players: \\n\\nYou are in a world where humans and monsters coexist. You are a dungeon master who is narrating the story to a group of players. The players are in a tavern when they are approached by a mysterious woman who offers them a chance to change their destiny. The players must choose between following the path of the sword or the path of the wizard. The players must also choose between following the path of the sword or the path of the wizard. The players must also choose between following the path of the sword or the path of the wizard. The players must also choose between following the path of the sword or the path of the wizard.\",\n",
    ")"
   ]
  },
  {
   "cell_type": "code",
   "execution_count": 25,
   "metadata": {},
   "outputs": [
    {
     "name": "stdout",
     "output_type": "stream",
     "text": [
      "Waiting for generation to complete...\n",
      "Waiting for generation to complete...\n",
      "Waiting for generation to complete...\n",
      "Waiting for generation to complete...\n",
      "Waiting for generation to complete...\n",
      "Waiting for generation to complete...\n",
      "Waiting for generation to complete...\n",
      "Waiting for generation to complete...\n",
      "Waiting for generation to complete...\n",
      "Waiting for generation to complete...\n",
      "Waiting for generation to complete...\n",
      "Waiting for generation to complete...\n",
      "Waiting for generation to complete...\n",
      "Waiting for generation to complete...\n",
      "Waiting for generation to complete...\n",
      "Waiting for generation to complete...\n",
      "Waiting for generation to complete...\n",
      "Waiting for generation to complete...\n",
      "Waiting for generation to complete...\n",
      "Waiting for generation to complete...\n",
      "Waiting for generation to complete...\n",
      "Waiting for generation to complete...\n",
      "Waiting for generation to complete...\n",
      "Waiting for generation to complete...\n",
      "Waiting for generation to complete...\n",
      "Waiting for generation to complete...\n",
      "Waiting for generation to complete...\n",
      "Waiting for generation to complete...\n",
      "Waiting for generation to complete...\n",
      "Waiting for generation to complete...\n",
      "Waiting for generation to complete...\n",
      "Waiting for generation to complete...\n",
      "Waiting for generation to complete...\n",
      "Waiting for generation to complete...\n",
      "Waiting for generation to complete...\n",
      "Waiting for generation to complete...\n"
     ]
    }
   ],
   "source": [
    "out = await loop_and_wait_for_generation(generation.id)"
   ]
  },
  {
   "cell_type": "code",
   "execution_count": 26,
   "metadata": {},
   "outputs": [
    {
     "data": {
      "text/plain": [
       "Generation(id='5bce12a2-2b09-4c31-81f2-0159fb864ea9', assets=Assets(video='https://storage.cdn-luma.com/lit_lite_inference_v1.6-xl/38dfedaa-0303-47f4-bebf-b6de1e53ef75/14e1e220-c429-404c-9a56-7ee0ba874779_video0a120a3a0ad964786ad2e51d686b93bc4.mp4'), created_at=datetime.datetime(2024, 9, 28, 17, 43, 44, 242000, tzinfo=TzInfo(UTC)), failure_reason=None, request=Request(aspect_ratio='16:9', keyframes=None, loop=False, prompt='Generate a video shwoing this description by a dungeon master for a group of players: \\n\\nYou are in a world where humans and monsters coexist. You are a dungeon master who is narrating the story to a group of players. The players are in a tavern when they are approached by a mysterious woman who offers them a chance to change their destiny. The players must choose between following the path of the sword or the path of the wizard. The players must also choose between following the path of the sword or the path of the wizard. The players must also choose between following the path of the sword or the path of the wizard. The players must also choose between following the path of the sword or the path of the wizard.'), state='dreaming', version=None)"
      ]
     },
     "execution_count": 26,
     "metadata": {},
     "output_type": "execute_result"
    }
   ],
   "source": [
    "out"
   ]
  },
  {
   "cell_type": "code",
   "execution_count": 10,
   "metadata": {},
   "outputs": [],
   "source": [
    "if out.assets is not None:"
   ]
  },
  {
   "cell_type": "code",
   "execution_count": null,
   "metadata": {},
   "outputs": [],
   "source": [
    "generation = client.generations.create(\n",
    "    prompt=\"A teddy bear in sunglasses playing electric guitar and dancing\",\n",
    "    loop=True,\n",
    "    aspect_ratio=\"3:4\"\n",
    ")"
   ]
  },
  {
   "cell_type": "code",
   "execution_count": 87,
   "metadata": {},
   "outputs": [],
   "source": [
    "generation = await client.generations.create(\n",
    "    prompt=\"\"\"This is a video of a person transitioning from playing the Em7 chord to the G chord on a guitar. The video starts with the guitarist's fingers positioned for the Em7 chord. Then, the hand smoothly shifts, with fingers adjusting to form the G chord. The transition is deliberate and clear, showcasing the movement required to change from Em7 to G. The video ends once the fingers are firmly placed in the G chord position.\"\"\",\n",
    "    keyframes={\n",
    "      \"frame0\": {\n",
    "        \"type\": \"image\",\n",
    "        \"url\": \"https://i.ibb.co/TMQPgzS/Clean-Shot-2024-09-28-at-14-41-19-2x.png\"\n",
    "      },\n",
    "      \"frame1\": {\n",
    "        \"type\": \"image\",\n",
    "        \"url\": \"https://i.ibb.co/ctCPm0k/Clean-Shot-2024-09-28-at-14-41-30-2x.png\"\n",
    "      }\n",
    "    }\n",
    ")"
   ]
  },
  {
   "cell_type": "code",
   "execution_count": 88,
   "metadata": {},
   "outputs": [
    {
     "name": "stdout",
     "output_type": "stream",
     "text": [
      "Waiting for generation to complete...\n",
      "Waiting for generation to complete...\n",
      "Waiting for generation to complete...\n",
      "Waiting for generation to complete...\n",
      "Waiting for generation to complete...\n",
      "Waiting for generation to complete...\n",
      "Waiting for generation to complete...\n",
      "Waiting for generation to complete...\n",
      "Waiting for generation to complete...\n",
      "Waiting for generation to complete...\n",
      "Waiting for generation to complete...\n",
      "Waiting for generation to complete...\n",
      "Waiting for generation to complete...\n",
      "Waiting for generation to complete...\n",
      "Waiting for generation to complete...\n",
      "Waiting for generation to complete...\n",
      "Waiting for generation to complete...\n",
      "Waiting for generation to complete...\n",
      "Waiting for generation to complete...\n",
      "Waiting for generation to complete...\n",
      "Waiting for generation to complete...\n",
      "Waiting for generation to complete...\n",
      "Waiting for generation to complete...\n",
      "Waiting for generation to complete...\n",
      "Waiting for generation to complete...\n",
      "Waiting for generation to complete...\n",
      "Waiting for generation to complete...\n",
      "Waiting for generation to complete...\n",
      "Waiting for generation to complete...\n",
      "Waiting for generation to complete...\n",
      "Waiting for generation to complete...\n",
      "Waiting for generation to complete...\n",
      "Waiting for generation to complete...\n"
     ]
    }
   ],
   "source": [
    "out = await loop_and_wait_for_generation(generation.id)"
   ]
  },
  {
   "cell_type": "code",
   "execution_count": 89,
   "metadata": {},
   "outputs": [
    {
     "data": {
      "text/plain": [
       "{'id': '7912d663-cc07-4313-a7ce-1037d9d1dabc',\n",
       " 'assets': {'video': 'https://storage.cdn-luma.com/lit_lite_inference_v1.6-xl/1f5698ac-9aa9-4d5d-9004-35ab368247d8/78bf23ee-cd3c-4bc3-b153-f36b91893647_video00c78a1596cf640b0ab6f2aab7b6e38be.mp4'},\n",
       " 'created_at': datetime.datetime(2024, 9, 28, 21, 48, 5, 761000, tzinfo=TzInfo(UTC)),\n",
       " 'failure_reason': None,\n",
       " 'request': {'aspect_ratio': '16:9',\n",
       "  'keyframes': {'frame0': {'type': 'image',\n",
       "    'url': 'https://storage.cdn-luma.com/app_data/photon/user_uploads/220aad44-0d2f-4311-a029-3726af5ba86b/0badb4fd-50aa-4021-b41b-c053c755cd9e_image.jpg'},\n",
       "   'frame1': {'type': 'image',\n",
       "    'url': 'https://storage.cdn-luma.com/app_data/photon/user_uploads/220aad44-0d2f-4311-a029-3726af5ba86b/9872f96e-d7ae-47ae-990b-80cf7e8492a2_image.jpg'}},\n",
       "  'loop': False,\n",
       "  'prompt': \"This is a video of a person transitioning from playing the Em7 chord to the G chord on a guitar. The video starts with the guitarist's fingers positioned for the Em7 chord. Then, the hand smoothly shifts, with fingers adjusting to form the G chord. The transition is deliberate and clear, showcasing the movement required to change from Em7 to G. The video ends once the fingers are firmly placed in the G chord position.\"},\n",
       " 'state': 'dreaming',\n",
       " 'version': None}"
      ]
     },
     "execution_count": 89,
     "metadata": {},
     "output_type": "execute_result"
    }
   ],
   "source": [
    "out.model_dump()"
   ]
  },
  {
   "cell_type": "code",
   "execution_count": 90,
   "metadata": {},
   "outputs": [],
   "source": [
    "generation_2 = await client.generations.create(\n",
    "    prompt=\"\"\"This is a video of a person transitioning from playing the G chord to the Dsus4 chord on a guitar. The video starts with the guitarist's fingers positioned for the G chord. Then, the hand smoothly shifts, with fingers adjusting to form the Dsus4 chord. The transition is deliberate and clear, showcasing the movement required to change from G to Dsus4. The video ends once the fingers are firmly placed in the Dsus4 chord position.\"\"\",\n",
    "    keyframes={\n",
    "      \"frame0\": {\n",
    "        \"type\": \"image\",\n",
    "        \"url\": \"https://i.ibb.co/ctCPm0k/Clean-Shot-2024-09-28-at-14-41-30-2x.png\"\n",
    "      },\n",
    "      \"frame1\": {\n",
    "        \"type\": \"image\",\n",
    "        \"url\": \"https://i.ibb.co/pyqFbSW/Clean-Shot-2024-09-28-at-14-41-47-2x.png\"\n",
    "      }\n",
    "    }\n",
    ")"
   ]
  },
  {
   "cell_type": "code",
   "execution_count": 91,
   "metadata": {},
   "outputs": [
    {
     "name": "stdout",
     "output_type": "stream",
     "text": [
      "Waiting for generation to complete...\n",
      "Waiting for generation to complete...\n",
      "Waiting for generation to complete...\n",
      "Waiting for generation to complete...\n",
      "Waiting for generation to complete...\n",
      "Waiting for generation to complete...\n",
      "Waiting for generation to complete...\n",
      "Waiting for generation to complete...\n",
      "Waiting for generation to complete...\n",
      "Waiting for generation to complete...\n",
      "Waiting for generation to complete...\n",
      "Waiting for generation to complete...\n",
      "Waiting for generation to complete...\n",
      "Waiting for generation to complete...\n",
      "Waiting for generation to complete...\n",
      "Waiting for generation to complete...\n",
      "Waiting for generation to complete...\n",
      "Waiting for generation to complete...\n"
     ]
    },
    {
     "data": {
      "text/plain": [
       "Generation(id='128b3323-ef6b-45f3-8c54-5d92166ddb1d', assets=Assets(video='https://storage.cdn-luma.com/lit_lite_inference_v1.6-xl/59cf7d93-7afb-43cb-9678-299706223aba/cd7a68e4-8cf4-437d-aa3f-0bf5f2563502_video0466eda0b7a4d41e1aa26ee753553aa9f.mp4'), created_at=datetime.datetime(2024, 9, 28, 21, 50, 15, 923000, tzinfo=TzInfo(UTC)), failure_reason=None, request=Request(aspect_ratio='16:9', keyframes=RequestKeyframes(frame0=RequestKeyframesFrame0ImageReference(type='image', url='https://storage.cdn-luma.com/app_data/photon/user_uploads/220aad44-0d2f-4311-a029-3726af5ba86b/cca5ebfb-9089-4da5-8830-c051509042e0_image.jpg'), frame1=RequestKeyframesFrame1ImageReference(type='image', url='https://storage.cdn-luma.com/app_data/photon/user_uploads/220aad44-0d2f-4311-a029-3726af5ba86b/b6cde3c5-6335-46e1-9c68-e3643926d739_image.jpg')), loop=False, prompt=\"This is a video of a person transitioning from playing the G chord to the Dsus4 chord on a guitar. The video starts with the guitarist's fingers positioned for the G chord. Then, the hand smoothly shifts, with fingers adjusting to form the Dsus4 chord. The transition is deliberate and clear, showcasing the movement required to change from G to Dsus4. The video ends once the fingers are firmly placed in the Dsus4 chord position.\"), state='completed', version=None)"
      ]
     },
     "execution_count": 91,
     "metadata": {},
     "output_type": "execute_result"
    }
   ],
   "source": [
    "out_2 = await loop_and_wait_for_generation(generation_2.id)\n",
    "out_2"
   ]
  },
  {
   "cell_type": "code",
   "execution_count": 92,
   "metadata": {},
   "outputs": [
    {
     "data": {
      "text/plain": [
       "Generation(id='7912d663-cc07-4313-a7ce-1037d9d1dabc', assets=Assets(video='https://storage.cdn-luma.com/lit_lite_inference_v1.6-xl/1f5698ac-9aa9-4d5d-9004-35ab368247d8/78bf23ee-cd3c-4bc3-b153-f36b91893647_video00c78a1596cf640b0ab6f2aab7b6e38be.mp4'), created_at=datetime.datetime(2024, 9, 28, 21, 48, 5, 761000, tzinfo=TzInfo(UTC)), failure_reason=None, request=Request(aspect_ratio='16:9', keyframes=RequestKeyframes(frame0=RequestKeyframesFrame0ImageReference(type='image', url='https://storage.cdn-luma.com/app_data/photon/user_uploads/220aad44-0d2f-4311-a029-3726af5ba86b/0badb4fd-50aa-4021-b41b-c053c755cd9e_image.jpg'), frame1=RequestKeyframesFrame1ImageReference(type='image', url='https://storage.cdn-luma.com/app_data/photon/user_uploads/220aad44-0d2f-4311-a029-3726af5ba86b/9872f96e-d7ae-47ae-990b-80cf7e8492a2_image.jpg')), loop=False, prompt=\"This is a video of a person transitioning from playing the Em7 chord to the G chord on a guitar. The video starts with the guitarist's fingers positioned for the Em7 chord. Then, the hand smoothly shifts, with fingers adjusting to form the G chord. The transition is deliberate and clear, showcasing the movement required to change from Em7 to G. The video ends once the fingers are firmly placed in the G chord position.\"), state='dreaming', version=None)"
      ]
     },
     "execution_count": 92,
     "metadata": {},
     "output_type": "execute_result"
    }
   ],
   "source": [
    "out"
   ]
  },
  {
   "cell_type": "code",
   "execution_count": 94,
   "metadata": {},
   "outputs": [
    {
     "data": {
      "text/plain": [
       "Generation(id='128b3323-ef6b-45f3-8c54-5d92166ddb1d', assets=Assets(video='https://storage.cdn-luma.com/lit_lite_inference_v1.6-xl/59cf7d93-7afb-43cb-9678-299706223aba/cd7a68e4-8cf4-437d-aa3f-0bf5f2563502_video0466eda0b7a4d41e1aa26ee753553aa9f.mp4'), created_at=datetime.datetime(2024, 9, 28, 21, 50, 15, 923000, tzinfo=TzInfo(UTC)), failure_reason=None, request=Request(aspect_ratio='16:9', keyframes=RequestKeyframes(frame0=RequestKeyframesFrame0ImageReference(type='image', url='https://storage.cdn-luma.com/app_data/photon/user_uploads/220aad44-0d2f-4311-a029-3726af5ba86b/cca5ebfb-9089-4da5-8830-c051509042e0_image.jpg'), frame1=RequestKeyframesFrame1ImageReference(type='image', url='https://storage.cdn-luma.com/app_data/photon/user_uploads/220aad44-0d2f-4311-a029-3726af5ba86b/b6cde3c5-6335-46e1-9c68-e3643926d739_image.jpg')), loop=False, prompt=\"This is a video of a person transitioning from playing the G chord to the Dsus4 chord on a guitar. The video starts with the guitarist's fingers positioned for the G chord. Then, the hand smoothly shifts, with fingers adjusting to form the Dsus4 chord. The transition is deliberate and clear, showcasing the movement required to change from G to Dsus4. The video ends once the fingers are firmly placed in the Dsus4 chord position.\"), state='completed', version=None)"
      ]
     },
     "execution_count": 94,
     "metadata": {},
     "output_type": "execute_result"
    }
   ],
   "source": [
    "out_2"
   ]
  },
  {
   "cell_type": "code",
   "execution_count": 97,
   "metadata": {},
   "outputs": [],
   "source": [
    "generation = await client.generations.create(\n",
    "    prompt=\"This is a video of a person playing Em to G to Dsus4 on a guitar\",\n",
    "    keyframes={\n",
    "      \"frame1\": {\n",
    "        \"type\": \"generation\",\n",
    "        \"id\": \"7912d663-cc07-4313-a7ce-1037d9d1dabc'\"\n",
    "      },\n",
    "      \"frame1\": {\n",
    "        \"type\": \"generation\",\n",
    "        \"id\": \"128b3323-ef6b-45f3-8c54-5d92166ddb1d\"\n",
    "      }\n",
    "    }\n",
    ")"
   ]
  },
  {
   "cell_type": "code",
   "execution_count": 98,
   "metadata": {},
   "outputs": [
    {
     "name": "stdout",
     "output_type": "stream",
     "text": [
      "Waiting for generation to complete...\n",
      "Waiting for generation to complete...\n",
      "Waiting for generation to complete...\n",
      "Waiting for generation to complete...\n",
      "Waiting for generation to complete...\n",
      "Waiting for generation to complete...\n",
      "Waiting for generation to complete...\n",
      "Waiting for generation to complete...\n",
      "Waiting for generation to complete...\n",
      "Waiting for generation to complete...\n",
      "Waiting for generation to complete...\n",
      "Waiting for generation to complete...\n",
      "Waiting for generation to complete...\n",
      "Waiting for generation to complete...\n",
      "Waiting for generation to complete...\n",
      "Waiting for generation to complete...\n",
      "Waiting for generation to complete...\n",
      "Waiting for generation to complete...\n",
      "Waiting for generation to complete...\n",
      "Waiting for generation to complete...\n",
      "Waiting for generation to complete...\n",
      "Waiting for generation to complete...\n",
      "Waiting for generation to complete...\n",
      "Waiting for generation to complete...\n",
      "Waiting for generation to complete...\n",
      "Waiting for generation to complete...\n",
      "Waiting for generation to complete...\n",
      "Waiting for generation to complete...\n",
      "Waiting for generation to complete...\n"
     ]
    },
    {
     "data": {
      "text/plain": [
       "Generation(id='d5b86816-b9d0-42f4-90d3-e0e139d8590b', assets=Assets(video='https://storage.cdn-luma.com/lit_lite_inference_v1.6-xl/918a4414-7db1-466f-bdd1-3a850c3c3ec1/016e5a89-0040-4db4-abe8-6d9b1f17fd8b_video069960883fdaa4402842bf0fea58b0d37.mp4'), created_at=datetime.datetime(2024, 9, 28, 21, 54, 44, 999000, tzinfo=TzInfo(UTC)), failure_reason=None, request=Request(aspect_ratio='16:9', keyframes=RequestKeyframes(frame0=None, frame1=RequestKeyframesFrame1GenerationReference(id='128b3323-ef6b-45f3-8c54-5d92166ddb1d', type='generation')), loop=False, prompt='This is a video of a person playing Em to G to Dsus4 on a guitar'), state='dreaming', version=None)"
      ]
     },
     "execution_count": 98,
     "metadata": {},
     "output_type": "execute_result"
    }
   ],
   "source": [
    "out_3 = await loop_and_wait_for_generation(generation.id)\n",
    "out_3"
   ]
  },
  {
   "cell_type": "code",
   "execution_count": 99,
   "metadata": {},
   "outputs": [
    {
     "data": {
      "text/plain": [
       "Generation(id='d5b86816-b9d0-42f4-90d3-e0e139d8590b', assets=Assets(video='https://storage.cdn-luma.com/lit_lite_inference_v1.6-xl/918a4414-7db1-466f-bdd1-3a850c3c3ec1/016e5a89-0040-4db4-abe8-6d9b1f17fd8b_video069960883fdaa4402842bf0fea58b0d37.mp4'), created_at=datetime.datetime(2024, 9, 28, 21, 54, 44, 999000, tzinfo=TzInfo(UTC)), failure_reason=None, request=Request(aspect_ratio='16:9', keyframes=RequestKeyframes(frame0=None, frame1=RequestKeyframesFrame1GenerationReference(id='128b3323-ef6b-45f3-8c54-5d92166ddb1d', type='generation')), loop=False, prompt='This is a video of a person playing Em to G to Dsus4 on a guitar'), state='dreaming', version=None)"
      ]
     },
     "execution_count": 99,
     "metadata": {},
     "output_type": "execute_result"
    }
   ],
   "source": [
    "out_3"
   ]
  },
  {
   "cell_type": "code",
   "execution_count": 82,
   "metadata": {},
   "outputs": [],
   "source": [
    "generation = await client.generations.create(\n",
    "    prompt=\"Make the gears turn\",\n",
    "    loop=True,\n",
    "    keyframes={\n",
    "      \"frame0\": {\n",
    "        \"type\": \"image\",\n",
    "        \"url\": \"https://i.ibb.co/nMCtnD5/Whats-App-Image-Sept-28-at-10-51-AM.jpg\"\n",
    "      }\n",
    "    }\n",
    ")"
   ]
  },
  {
   "cell_type": "code",
   "execution_count": 83,
   "metadata": {},
   "outputs": [
    {
     "name": "stdout",
     "output_type": "stream",
     "text": [
      "Waiting for generation to complete...\n",
      "Waiting for generation to complete...\n",
      "Waiting for generation to complete...\n",
      "Waiting for generation to complete...\n",
      "Waiting for generation to complete...\n",
      "Waiting for generation to complete...\n",
      "Waiting for generation to complete...\n",
      "Waiting for generation to complete...\n",
      "Waiting for generation to complete...\n",
      "Waiting for generation to complete...\n",
      "Waiting for generation to complete...\n",
      "Waiting for generation to complete...\n",
      "Waiting for generation to complete...\n",
      "Waiting for generation to complete...\n",
      "Waiting for generation to complete...\n",
      "Waiting for generation to complete...\n",
      "Waiting for generation to complete...\n",
      "Waiting for generation to complete...\n",
      "Waiting for generation to complete...\n",
      "Waiting for generation to complete...\n",
      "Waiting for generation to complete...\n",
      "Waiting for generation to complete...\n",
      "Waiting for generation to complete...\n",
      "Waiting for generation to complete...\n",
      "Waiting for generation to complete...\n",
      "Waiting for generation to complete...\n",
      "Waiting for generation to complete...\n",
      "Waiting for generation to complete...\n",
      "Waiting for generation to complete...\n",
      "Waiting for generation to complete...\n",
      "Waiting for generation to complete...\n"
     ]
    },
    {
     "data": {
      "text/plain": [
       "Generation(id='5c5f5531-872c-4d1f-a1fb-306f27000464', assets=Assets(video='https://storage.cdn-luma.com/lit_lite_inference_v1.6-xl/aef5be34-5cd2-4240-bc94-d8e9c7c51908/82fa500e-b0e8-4d6d-a7ea-426026e44186_video03bc77500014f4039874ad9b43d7b14bb.mp4'), created_at=datetime.datetime(2024, 9, 28, 21, 5, 15, 266000, tzinfo=TzInfo(UTC)), failure_reason=None, request=Request(aspect_ratio='16:9', keyframes=RequestKeyframes(frame0=RequestKeyframesFrame0ImageReference(type='image', url='https://storage.cdn-luma.com/app_data/photon/user_uploads/220aad44-0d2f-4311-a029-3726af5ba86b/997f1cd7-d96c-43ea-a7e4-9fa217698ad0_image.jpg'), frame1=None), loop=True, prompt='Make the gears turn'), state='dreaming', version=None)"
      ]
     },
     "execution_count": 83,
     "metadata": {},
     "output_type": "execute_result"
    }
   ],
   "source": [
    "output = await loop_and_wait_for_generation(generation.id)\n",
    "output"
   ]
  },
  {
   "cell_type": "code",
   "execution_count": null,
   "metadata": {},
   "outputs": [],
   "source": [
    "generation = client.generations.create(\n",
    "    prompt=\"Low-angle shot of a majestic tiger prowling through a snowy landscape, leaving paw prints on the white blanket\",\n",
    "    keyframes={\n",
    "      \"frame1\": {\n",
    "        \"type\": \"image\",\n",
    "        \"url\": \"https://storage.cdn-luma.com/dream_machine/7e4fe07f-1dfd-4921-bc97-4bcf5adea39a/video_0_thumb.jpg\"\n",
    "      }\n",
    "    }\n",
    ")"
   ]
  },
  {
   "cell_type": "code",
   "execution_count": null,
   "metadata": {},
   "outputs": [],
   "source": [
    "generation = client.generations.create(\n",
    "    prompt=\"Low-angle shot of a majestic tiger prowling through a snowy landscape, leaving paw prints on the white blanket\",\n",
    "    keyframes={\n",
    "      \"frame0\": {\n",
    "        \"type\": \"image\",\n",
    "        \"url\": \"https://storage.cdn-luma.com/dream_machine/7e4fe07f-1dfd-4921-bc97-4bcf5adea39a/video_0_thumb.jpg\"\n",
    "      },\n",
    "      \"frame1\": {\n",
    "        \"type\": \"image\",\n",
    "        \"url\": \"https://storage.cdn-luma.com/dream_machine/12d17326-a7b6-4538-b9b7-4a2e146d4488/video_0_thumb.jpg\"\n",
    "      }\n",
    "    }\n",
    ")"
   ]
  },
  {
   "cell_type": "code",
   "execution_count": null,
   "metadata": {},
   "outputs": [],
   "source": [
    "generation = client.generations.create(\n",
    "    prompt=\"A teddy bear in sunglasses playing electric guitar and dancing\",\n",
    "    keyframes={\n",
    "      \"frame0\": {\n",
    "        \"type\": \"generation\",\n",
    "        \"id\": \"d1968551-6113-4b46-b567-09210c2e79b0\"\n",
    "      }\n",
    "    }\n",
    ")"
   ]
  },
  {
   "cell_type": "code",
   "execution_count": null,
   "metadata": {},
   "outputs": [],
   "source": [
    "supported_camera_motions = client.generations.camera_motion.list()\n"
   ]
  }
 ],
 "metadata": {
  "kernelspec": {
   "display_name": "dream-machine",
   "language": "python",
   "name": "dream-machine"
  },
  "language_info": {
   "codemirror_mode": {
    "name": "ipython",
    "version": 3
   },
   "file_extension": ".py",
   "mimetype": "text/x-python",
   "name": "python",
   "nbconvert_exporter": "python",
   "pygments_lexer": "ipython3",
   "version": "3.12.5"
  }
 },
 "nbformat": 4,
 "nbformat_minor": 2
}
