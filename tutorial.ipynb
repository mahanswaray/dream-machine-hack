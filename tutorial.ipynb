{
 "cells": [
  {
   "cell_type": "code",
   "execution_count": 3,
   "metadata": {},
   "outputs": [],
   "source": [
    "import os\n",
    "from lumaai import AsyncLumaAI\n",
    "\n",
    "client = AsyncLumaAI(\n",
    "    auth_token=os.environ.get(\"LUMAAI_API_KEY\"),\n",
    ")"
   ]
  },
  {
   "cell_type": "code",
   "execution_count": null,
   "metadata": {},
   "outputs": [],
   "source": [
    "async def loop_and_wait_for_generation(gen_id):\n",
    "    generation = await client.generations.get(id=gen_id)\n",
    "    while generation.assets is not None:\n",
    "        await asyncio.sleep(1)\n",
    "        generation = client.generations.get(id=gen_id)\n",
    "    return generation\n"
   ]
  },
  {
   "cell_type": "code",
   "execution_count": 4,
   "metadata": {},
   "outputs": [],
   "source": [
    "generation = await client.generations.create(\n",
    "    prompt=\"A teddy bear in sunglasses playing electric guitar and dancing\",\n",
    ")"
   ]
  },
  {
   "cell_type": "code",
   "execution_count": null,
   "metadata": {},
   "outputs": [],
   "source": [
    "generation = client.generations.create(\n",
    "    prompt=\"A teddy bear in sunglasses playing electric guitar and dancing\",\n",
    "    loop=True,\n",
    "    aspect_ratio=\"3:4\"\n",
    ")"
   ]
  },
  {
   "cell_type": "code",
   "execution_count": null,
   "metadata": {},
   "outputs": [],
   "source": [
    "generation = client.generations.create(\n",
    "    prompt=\"Low-angle shot of a majestic tiger prowling through a snowy landscape, leaving paw prints on the white blanket\",\n",
    "    keyframes={\n",
    "      \"frame0\": {\n",
    "        \"type\": \"image\",\n",
    "        \"url\": \"https://storage.cdn-luma.com/dream_machine/7e4fe07f-1dfd-4921-bc97-4bcf5adea39a/video_0_thumb.jpg\"\n",
    "      }\n",
    "    }\n",
    ")"
   ]
  },
  {
   "cell_type": "code",
   "execution_count": null,
   "metadata": {},
   "outputs": [],
   "source": [
    "generation = client.generations.create(\n",
    "    prompt=\"Low-angle shot of a majestic tiger prowling through a snowy landscape, leaving paw prints on the white blanket\",\n",
    "    loop=True,\n",
    "    keyframes={\n",
    "      \"frame0\": {\n",
    "        \"type\": \"image\",\n",
    "        \"url\": \"https://storage.cdn-luma.com/dream_machine/7e4fe07f-1dfd-4921-bc97-4bcf5adea39a/video_0_thumb.jpg\"\n",
    "      }\n",
    "    }\n",
    ")"
   ]
  },
  {
   "cell_type": "code",
   "execution_count": null,
   "metadata": {},
   "outputs": [],
   "source": [
    "generation = client.generations.create(\n",
    "    prompt=\"Low-angle shot of a majestic tiger prowling through a snowy landscape, leaving paw prints on the white blanket\",\n",
    "    keyframes={\n",
    "      \"frame1\": {\n",
    "        \"type\": \"image\",\n",
    "        \"url\": \"https://storage.cdn-luma.com/dream_machine/7e4fe07f-1dfd-4921-bc97-4bcf5adea39a/video_0_thumb.jpg\"\n",
    "      }\n",
    "    }\n",
    ")"
   ]
  },
  {
   "cell_type": "code",
   "execution_count": null,
   "metadata": {},
   "outputs": [],
   "source": [
    "generation = client.generations.create(\n",
    "    prompt=\"Low-angle shot of a majestic tiger prowling through a snowy landscape, leaving paw prints on the white blanket\",\n",
    "    keyframes={\n",
    "      \"frame0\": {\n",
    "        \"type\": \"image\",\n",
    "        \"url\": \"https://storage.cdn-luma.com/dream_machine/7e4fe07f-1dfd-4921-bc97-4bcf5adea39a/video_0_thumb.jpg\"\n",
    "      },\n",
    "      \"frame1\": {\n",
    "        \"type\": \"image\",\n",
    "        \"url\": \"https://storage.cdn-luma.com/dream_machine/12d17326-a7b6-4538-b9b7-4a2e146d4488/video_0_thumb.jpg\"\n",
    "      }\n",
    "    }\n",
    ")"
   ]
  },
  {
   "cell_type": "code",
   "execution_count": null,
   "metadata": {},
   "outputs": [],
   "source": [
    "generation = client.generations.create(\n",
    "    prompt=\"A teddy bear in sunglasses playing electric guitar and dancing\",\n",
    "    keyframes={\n",
    "      \"frame0\": {\n",
    "        \"type\": \"generation\",\n",
    "        \"id\": \"d1968551-6113-4b46-b567-09210c2e79b0\"\n",
    "      }\n",
    "    }\n",
    ")"
   ]
  },
  {
   "cell_type": "code",
   "execution_count": null,
   "metadata": {},
   "outputs": [],
   "source": [
    "supported_camera_motions = client.generations.camera_motion.list()\n"
   ]
  }
 ],
 "metadata": {
  "kernelspec": {
   "display_name": "dream-machine",
   "language": "python",
   "name": "dream-machine"
  },
  "language_info": {
   "codemirror_mode": {
    "name": "ipython",
    "version": 3
   },
   "file_extension": ".py",
   "mimetype": "text/x-python",
   "name": "python",
   "nbconvert_exporter": "python",
   "pygments_lexer": "ipython3",
   "version": "3.12.5"
  }
 },
 "nbformat": 4,
 "nbformat_minor": 2
}
