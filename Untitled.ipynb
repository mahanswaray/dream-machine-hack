{
 "cells": [
  {
   "cell_type": "code",
   "execution_count": null,
   "id": "a0bc1659-c059-4fe7-b4b2-2fbd827eecc5",
   "metadata": {},
   "outputs": [],
   "source": [
    "API_KEY = \"\"\n",
    "\n",
    "from lumaai import AsyncLumaAI\n",
    "\n",
    "client = AsyncLumaAI(\n",
    "    auth_token=API_KEY,\n",
    ")\n",
    "prompt = \"Generate a video shwoing this description by a dungeon master for a group of players: \\n\\nYou are in a world where humans and monsters coexist. You are a dungeon master who is narrating the story to a group of players. The players are in a tavern when they are approached by a mysterious woman who offers them a chance to change their destiny. The players must choose between following the path of the sword or the path of the wizard. The players must also choose between following the path of the sword or the path of the wizard. The players must also choose between following the path of the sword or the path of the wizard. The players must also choose between following the path of the sword or the path of the wizard.\"\n",
    "generation = await client.generations.create(\n",
    "    prompt=prompt,\n",
    ")"
   ]
  },
  {
   "cell_type": "code",
   "execution_count": null,
   "id": "c6d934b2-cb56-48b0-b0fc-89cfb8a49e65",
   "metadata": {},
   "outputs": [],
   "source": [
    "generated_video = await client.generations.get(id=generation.id)\n",
    "generated_video"
   ]
  },
  {
   "cell_type": "code",
   "execution_count": 13,
   "id": "61d31300-24e7-485d-bd27-37379b3de890",
   "metadata": {},
   "outputs": [],
   "source": [
    "c_major = \"https://i0.wp.com/breakthroughguitar.com/wp-content/uploads/2023/05/G-Major-guitar-chord-3-2-1.png\"\n",
    "d_major = \"https://i0.wp.com/breakthroughguitar.com/wp-content/uploads/2023/05/C-Major-guitar-chord-2.png\"\n",
    "e_minor = \"https://richterguitar.com/wp-content/uploads/2024/02/E-Minor-Chord.jpg\"\n",
    "a_minor = \"https://i0.wp.com/breakthroughguitar.com/wp-content/uploads/2023/05/Am-Guitar-Chord-2.png\"\n",
    "f_major = \"https://i0.wp.com/breakthroughguitar.com/wp-content/uploads/2023/05/F-major-chord-2.png\"\n",
    "b_major = \"https://i0.wp.com/breakthroughguitar.com/wp-content/uploads/2023/05/B-major-guitar-chord.png\"\n",
    "a7 = \"https://staticctf.ubisoft.com/J3yJr34U2pZ2Ieem48Dwy9uqj5PNUQTn/4ToPOauWGlxismv7CtyHhn/bfff362c22227b8e710dafe2a8dafc80/g7.jpeg\"\n",
    "em7 = \"https://www.becomegreatatguitar.com/wp-content/uploads/2021/07/SFyFlhQHSnK0nPQxy96QA_thumb_23a-min.jpg\"\n",
    "g = \"https://jtgt-static.b-cdn.net/images/modules/BCS3/BC-131-GchordPhoto.jpg\"\n",
    "\n",
    "# Em7, G, Dsus4, A7sus4, Em7, G, Dsus4, A7sus4, Em7, G, Dsus4, A7sus4\n",
    "\n",
    "chord_map = {\n",
    "    \"Em7\": em7,\n",
    "    \"G\": g,\n",
    "    \"Dsus4\": d_major,\n",
    "    \"A7sus4\": a7,\n",
    "}\n",
    "\n"
   ]
  },
  {
   "cell_type": "code",
   "execution_count": null,
   "id": "96d16665-74df-4076-b3f1-505ef2767717",
   "metadata": {},
   "outputs": [],
   "source": [
    "prompt = \"\"\"\n",
    "When a guitarist transitions from a C note to a D note, it involves a slight adjustment in finger positioning on the fretboard. Assuming the player is forming the C major chord and transitioning to the D major chord:\n",
    "\n",
    "    C Note: The guitarist begins with their ring finger placed on the 3rd fret of the A string, middle finger on the 2nd fret of the D string, and index finger on the 1st fret of the B string, leaving the G and high E strings open.\n",
    "    Transition to D Note: To move to the D major chord, the guitarist shifts their entire hand slightly up the neck:\n",
    "\n",
    "    The index finger presses the 2nd fret of the G string.\n",
    "    The middle finger shifts to the 2nd fret of the high E string.\n",
    "    The ring finger is placed on the 3rd fret of the B string.\n",
    "    The low E and A strings are muted or not played, allowing only the top four strings to ring.\n",
    "\n",
    "This movement requires precision and coordination, where the hand subtly rotates, and fingers are lifted and re-placed efficiently without losing contact with the strings, maintaining fluidity between chords.\n",
    "\"\"\"\n",
    "\n",
    "prompt = \"Animate this\"\n",
    "generation = await client.generations.create(\n",
    "    prompt=prompt,\n",
    "    keyframes={\n",
    "      \"frame0\": {\n",
    "        \"type\": \"image\",\n",
    "        \"url\": \"https://drive.google.com/file/d/1zML8CmJRxLe2kgGgoHHzO1XcMLT3liBU/view?usp=sharing\"\n",
    "      },\n",
    "    }\n",
    ")\n",
    "generation"
   ]
  },
  {
   "cell_type": "code",
   "execution_count": null,
   "id": "6d5da8b9-9325-4bba-9d7f-afe42b48fbd7",
   "metadata": {},
   "outputs": [],
   "source": [
    "generated_video = await client.generations.get(id=generation.id)\n",
    "generated_video"
   ]
  },
  {
   "cell_type": "code",
   "execution_count": 11,
   "id": "f4884965-a29c-4036-9692-a4beea282816",
   "metadata": {},
   "outputs": [
    {
     "name": "stdout",
     "output_type": "stream",
     "text": [
      "Extracted chords: Em7, G, Dsus4, A7sus4, Em7, G, Dsus4, A7sus4, Em7, G, Dsus4, A7sus4\n"
     ]
    }
   ],
   "source": [
    "import openai\n",
    "import os\n",
    "\n",
    "# Set your OpenAI API key\n",
    "openai.api_key = \"\"\n",
    "\n",
    "def extract_chords(tablature):\n",
    "    prompt = f\"\"\"\n",
    "    Extract only the chord names from the following guitar tablature:\n",
    "\n",
    "    {tablature}\n",
    "\n",
    "    List the chords in order of appearance, separated by commas.\n",
    "    If you can't identify a chord, use 'Unknown'.\n",
    "    Only return extracted cords and nothing else. The chords should be comma separated.\n",
    "    \"\"\"\n",
    "\n",
    "    response = openai.ChatCompletion.create(\n",
    "        model=\"gpt-4o\",\n",
    "        messages=[\n",
    "            {\"role\": \"system\", \"content\": \"You are a music expert specializing in guitar chords.\"},\n",
    "            {\"role\": \"user\", \"content\": prompt}\n",
    "        ],\n",
    "        max_tokens=100,\n",
    "        n=1,\n",
    "        stop=None,\n",
    "        temperature=0.5,\n",
    "    )\n",
    "\n",
    "    chords = response.choices[0].message['content'].strip()\n",
    "    return chords\n",
    "\n",
    "# Example usage\n",
    "tab = \"\"\"\n",
    "   Em7             G                 Dsus4         A7sus4\n",
    "\n",
    "E|-3---3---3-----3-3-3-3---3---3-3-|-3-3-3---3---3-3---3---3-3-3-3-3-|\n",
    "\n",
    "B|-3---3---3-----3-3-3-3---3---3-3-|-3-3-3---3---3-3---3---3-3-3-3-3-|\n",
    "\n",
    "G|-0---0---0-----0-0-0-0---0---0-0-|-2-2-2---2---0-2---2---2-2-2-0-0-|\n",
    "\n",
    "D|-2---2---2-----0-0-0-0---0---0-0-|-0-0-0---0---0-2---2---2-2-2-0-0-|\n",
    "\n",
    "A|-2---2---2-----2-2-2-2---2---2-2-|---------------0---0---0-0-0-0-0-|\n",
    "\n",
    "E|-0---0---0-----0-3-3-3---3---3-3-|---------------------------------|\n",
    "\n",
    " \n",
    "\n",
    "   Em7             G                 Dsus4         A7sus4\n",
    "\n",
    "E|-3---3---3-----3-3-3-3---3-----3-|-3-3-3---3---3-3---3-3-3-3-3-3-3-|\n",
    "\n",
    "B|-3---3---3-----3-3-3-3---3-----3-|-3-3-3---3---3-3---3-3-3-3-3-3-3-|\n",
    "\n",
    "G|-0---0---0-----0-0-0-0---0-----0-|-2-2-2---2---0-2---2-2-2-2-2-0-0-|\n",
    "\n",
    "D|-2---2---2-----0-0-0-0---0-----0-|-0-0-0---0---0-2---2-2-2-2-2-0-0-|\n",
    "\n",
    "A|-2---2---2-----2-2-2-2---2-----2-|---------------0---0-0-0-0-0-0-0-|\n",
    "\n",
    "E|-0---0---0-----0-3-3-3---3-----3-|---------------------------------|\n",
    "\n",
    " \n",
    "\n",
    "   Em7             G                 Dsus4         A7sus4\n",
    "\n",
    "E|-3---3---3-----3-3-3-3---3---3-3-|-3-3-3---3---3-3---3-3-3-3-3-3-3-|\n",
    "\n",
    "B|-3---3---3-----3-3-3-3---3---3-3-|-3-3-3---3---3-3---3-3-3-3-3-3-3-|\n",
    "\n",
    "G|-0---0---0-----0-0-0-0---0---0-0-|-2-2-2---2---0-2---2-2-2-2-2-0-0-|\n",
    "\n",
    "D|-2---2---2-----0-0-0-0---0---0-0-|-0-0-0---0---0-2---2-2-2-2-2-0-0-|\n",
    "\n",
    "A|-2---2---2-----2-2-2-2---2---2-2-|---------------0---0-0-0-0-0-0-0-|\n",
    "\n",
    "E|-0---0---0-----0-3-3-3---3---3-3-|---------------------------------|\n",
    "\n",
    "\"\"\"\n",
    "\n",
    "result = extract_chords(tab)\n",
    "print(\"Extracted chords:\", result)\n",
    "chords = result.split(\":\")[-1]\n",
    "chords = chords.split(\",\")\n"
   ]
  },
  {
   "cell_type": "code",
   "execution_count": 17,
   "id": "413346e9-3487-4a6b-9c93-6efa69d58e8c",
   "metadata": {},
   "outputs": [
    {
     "name": "stdout",
     "output_type": "stream",
     "text": [
      "https://www.becomegreatatguitar.com/wp-content/uploads/2021/07/SFyFlhQHSnK0nPQxy96QA_thumb_23a-min.jpg\n",
      "https://jtgt-static.b-cdn.net/images/modules/BCS3/BC-131-GchordPhoto.jpg\n",
      "https://i0.wp.com/breakthroughguitar.com/wp-content/uploads/2023/05/C-Major-guitar-chord-2.png\n",
      "https://staticctf.ubisoft.com/J3yJr34U2pZ2Ieem48Dwy9uqj5PNUQTn/4ToPOauWGlxismv7CtyHhn/bfff362c22227b8e710dafe2a8dafc80/g7.jpeg\n",
      "https://www.becomegreatatguitar.com/wp-content/uploads/2021/07/SFyFlhQHSnK0nPQxy96QA_thumb_23a-min.jpg\n",
      "https://jtgt-static.b-cdn.net/images/modules/BCS3/BC-131-GchordPhoto.jpg\n",
      "https://i0.wp.com/breakthroughguitar.com/wp-content/uploads/2023/05/C-Major-guitar-chord-2.png\n",
      "https://staticctf.ubisoft.com/J3yJr34U2pZ2Ieem48Dwy9uqj5PNUQTn/4ToPOauWGlxismv7CtyHhn/bfff362c22227b8e710dafe2a8dafc80/g7.jpeg\n",
      "https://www.becomegreatatguitar.com/wp-content/uploads/2021/07/SFyFlhQHSnK0nPQxy96QA_thumb_23a-min.jpg\n",
      "https://jtgt-static.b-cdn.net/images/modules/BCS3/BC-131-GchordPhoto.jpg\n",
      "https://i0.wp.com/breakthroughguitar.com/wp-content/uploads/2023/05/C-Major-guitar-chord-2.png\n",
      "https://staticctf.ubisoft.com/J3yJr34U2pZ2Ieem48Dwy9uqj5PNUQTn/4ToPOauWGlxismv7CtyHhn/bfff362c22227b8e710dafe2a8dafc80/g7.jpeg\n"
     ]
    }
   ],
   "source": [
    "for chord in chords:\n",
    "    print(chord_map[chord.strip()])"
   ]
  },
  {
   "cell_type": "code",
   "execution_count": 15,
   "id": "2dcc6afb-bc8a-44c5-b335-d920beb17bfb",
   "metadata": {},
   "outputs": [
    {
     "data": {
      "text/plain": [
       "['Em7',\n",
       " ' G',\n",
       " ' Dsus4',\n",
       " ' A7sus4',\n",
       " ' Em7',\n",
       " ' G',\n",
       " ' Dsus4',\n",
       " ' A7sus4',\n",
       " ' Em7',\n",
       " ' G',\n",
       " ' Dsus4',\n",
       " ' A7sus4']"
      ]
     },
     "execution_count": 15,
     "metadata": {},
     "output_type": "execute_result"
    }
   ],
   "source": [
    "chords"
   ]
  },
  {
   "cell_type": "code",
   "execution_count": null,
   "id": "dbb87ded-fd41-41b8-8e74-c1f54005a6a3",
   "metadata": {},
   "outputs": [],
   "source": []
  }
 ],
 "metadata": {
  "kernelspec": {
   "display_name": "Python 3 (ipykernel)",
   "language": "python",
   "name": "python3"
  },
  "language_info": {
   "codemirror_mode": {
    "name": "ipython",
    "version": 3
   },
   "file_extension": ".py",
   "mimetype": "text/x-python",
   "name": "python",
   "nbconvert_exporter": "python",
   "pygments_lexer": "ipython3",
   "version": "3.10.15"
  }
 },
 "nbformat": 4,
 "nbformat_minor": 5
}
